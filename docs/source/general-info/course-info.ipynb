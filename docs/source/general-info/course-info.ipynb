{
 "cells": [
  {
   "cell_type": "markdown",
   "id": "70cf379a-ba9c-4c99-93bb-ef9a400e2225",
   "metadata": {},
   "source": [
    "# Course essentials\n",
    "\n",
    "This class will be run on Zoom due to participation from students from many different sites.\n",
    "\n",
    "## Class meetings\n",
    "\n",
    "**Lessons**:\n",
    "\n",
    "- TBD\n",
    "\n",
    "**Work sessions**:\n",
    "\n",
    "- FluidNET students: TBD\n",
    "- GeoDoc students: TBD\n",
    "\n",
    "## Instructors\n",
    "\n",
    "- David Whipp, course organizer and lead instructor\n",
    "- Leevi Tuikka, course assistant\n",
    "\n",
    "## Course websites\n",
    "\n",
    "**Main course page**\n",
    "\n",
    "- <https://geoscipy-course-pages.readthedocs.io>\n",
    "\n",
    "**Geo-Python course page for first half of the course**\n",
    "\n",
    "- <https://geo-python.github.io>"
   ]
  }
 ],
 "metadata": {
  "kernelspec": {
   "display_name": "Python 3 (ipykernel)",
   "language": "python",
   "name": "python3"
  },
  "language_info": {
   "codemirror_mode": {
    "name": "ipython",
    "version": 3
   },
   "file_extension": ".py",
   "mimetype": "text/x-python",
   "name": "python",
   "nbconvert_exporter": "python",
   "pygments_lexer": "ipython3",
   "version": "3.8.10"
  }
 },
 "nbformat": 4,
 "nbformat_minor": 5
}
