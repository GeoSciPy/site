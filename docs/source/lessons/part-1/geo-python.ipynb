{
 "cells": [
  {
   "cell_type": "markdown",
   "id": "5744ebaf-5015-4ad9-9ed0-dde3c9599ff1",
   "metadata": {},
   "source": [
    "# Geo-Python course\n",
    "\n",
    "The first part of this course is based on semi-independent study of the course materials for the [Geo-Python course](https://geo-python.github.io) at the University of Helsinki. Below you will find some helpful links.\n",
    "\n",
    "## Geo-Python course lessons\n",
    "\n",
    "You can find links to all of the course materials for the Geo-Python course from its [course website](https://geo-python.github.io), but links to the individual lessons are provided below for your convenience.\n",
    "\n",
    "- [Lesson 1 - A taste of Python](https://geo-python-site.readthedocs.io/en/latest/lessons/L1/overview.html)\n",
    "- [Lesson 2 - Basic elements of Python](https://geo-python-site.readthedocs.io/en/latest/lessons/L2/overview.html)\n",
    "- [Lesson 3 - Loops and conditional statements](https://geo-python-site.readthedocs.io/en/latest/lessons/L3/overview.html)\n",
    "- [Lesson 4 - Functions](https://geo-python-site.readthedocs.io/en/latest/notebooks/L4/functions.html)\n",
    "- [Lesson 5 - Data analysis with pandas I](https://geo-python-site.readthedocs.io/en/latest/lessons/L5/overview.html)\n",
    "- [Lesson 6 - Data analysis with pandas II](https://geo-python-site.readthedocs.io/en/latest/lessons/L6/overview.html)\n",
    "- [Lesson 7 - Plotting in Python](https://geo-python-site.readthedocs.io/en/latest/lessons/L7/overview.html)\n",
    "\n",
    "## Obtaining a copy of the lesson notebooks\n",
    "\n",
    "Instructions for how to download a copy of the lesson notebooks used in the Geo-Python course can be found on the course website.\n",
    "\n",
    "- [How to download a copy of the lesson notebooks](https://geo-python-site.readthedocs.io/en/latest/course-info/installing-miniconda.html#getting-the-lesson-notebooks)\n",
    "\n",
    "## Installing Python on your computer\n",
    "\n",
    "You can find instructions for installing Python on your own computer on the Geo-Python course website. It is strongly recommended that you follow these instructions in order to ensure you have all of the necessary libraries to complete the course.\n",
    "\n",
    "- [Instructions for installing Python on your own computer](https://geo-python-site.readthedocs.io/en/latest/course-info/installing-miniconda.html)"
   ]
  }
 ],
 "metadata": {
  "kernelspec": {
   "display_name": "Python 3 (ipykernel)",
   "language": "python",
   "name": "python3"
  },
  "language_info": {
   "codemirror_mode": {
    "name": "ipython",
    "version": 3
   },
   "file_extension": ".py",
   "mimetype": "text/x-python",
   "name": "python",
   "nbconvert_exporter": "python",
   "pygments_lexer": "ipython3",
   "version": "3.8.10"
  }
 },
 "nbformat": 4,
 "nbformat_minor": 5
}
