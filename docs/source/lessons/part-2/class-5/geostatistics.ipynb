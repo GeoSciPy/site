{
 "cells": [
  {
   "cell_type": "markdown",
   "id": "6a017bc6-02c7-4313-bd81-bd811ef4965e",
   "metadata": {},
   "source": [
    "# A few geostatistical concepts\n",
    "\n",
    "To attempt to cover geostatistics in any depth in roughly one hour would be impossible. Thus, I plan to introduce a few concepts you may find useful below and we'll see how much we can cover. These may be fairly basic geostatistical examples, but hopefully the provide some general sense of how Python can be used for statistical analyses. The concepts we will cover (briefly) are:\n",
    "\n",
    "- Least squares regressions (with and without weighting)\n",
    "- Linear correlation\n",
    "- Goodness-of-fit tests\n",
    "- Monte Carlo inversion"
   ]
  },
  {
   "cell_type": "markdown",
   "id": "0870b458-1902-45d7-b551-40f41f37bd16",
   "metadata": {},
   "source": [
    "## Least squares regressions\n",
    "\n",
    "Least squares regressions can be used to fit a function to a scattered set of data points on an x-y plot. Typically we are fitting a line to the data, so we will use that example here as well.\n",
    "\n",
    "### Unweighted least squares regressions\n",
    "\n",
    "We can start with the idea that we want a line that fits a scattered set of x and y points. As you may recall, the equation for a line is\n",
    "\n",
    "$$\n",
    "\\large\n",
    "y = A + B x.\n",
    "$$\n",
    "\n",
    "Thus, to plot the line we would need to be able to find a slope $B$ and y-intercept $A$. We can find those values from our scatted x and y points using the following:\n",
    "\n",
    "$$\n",
    "\\large\n",
    "A = \\frac{\\sum{x^{2}} \\sum{y} - \\sum{x} \\sum{xy}}{\\Delta}\n",
    "$$\n",
    "\n",
    "where $x$ is the $i$th data point plotted on the $x$-axis, $y$ is the $i$th data point plotted on the $y$-axis, and $\\Delta$ is defined below.\n",
    "\n",
    "The line slope can be found using\n",
    "\n",
    "$$\n",
    "\\large\n",
    "B = \\frac{N \\sum{xy} - \\sum{x} \\sum {y}}{\\Delta}\n",
    "$$\n",
    "\n",
    "where $N$ is the number of values in the regression.\n",
    "\n",
    "And the value of $\\Delta$ is\n",
    "\n",
    "$$\n",
    "\\large\n",
    "\\Delta = N \\sum{x^{2}} - \\left( \\sum{x} \\right)^{2}\n",
    "$$\n",
    "\n",
    "Let's test this out for a set of x and y points below."
   ]
  },
  {
   "cell_type": "code",
   "execution_count": null,
   "id": "ba81cbda-f23c-4323-b2fb-0e2fb63424b1",
   "metadata": {},
   "outputs": [],
   "source": []
  },
  {
   "cell_type": "markdown",
   "id": "33869df2-76fa-4716-9f92-c97d5514c4ea",
   "metadata": {},
   "source": [
    "### Weighted least squares regressions\n",
    "\n",
    "Let's now imagine a case where the values on the y-axis have some nominal uncertainties $\\sigma$. We can modify our regression to include the uncertainties as weights for the point that are inversely proportional to the uncertainty:\n",
    "\n",
    "$$\n",
    "\\large\n",
    "w_{i} = 1 / \\sigma_{i}^{2}\n",
    "$$\n",
    "\n",
    "where $i$ is the ith weight for the ith uncertainty.\n",
    "\n",
    "We can thus modify our slope and intercept calculations above as follows:\n",
    "\n",
    "$$\n",
    "\\large\n",
    "A_{\\mathrm{w}} = \\frac{\\sum{wx^{2}} \\sum{wy} - \\sum{wx} \\sum{wxy}}{\\Delta_{\\mathrm{w}}},\n",
    "$$\n",
    "\n",
    "$$\n",
    "\\large\n",
    "B_{\\mathrm{w}} = \\frac{\\sum{w} \\sum{wxy} - \\sum{wx} \\sum {wy}}{\\Delta_{\\mathrm{w}}},\n",
    "$$\n",
    "\n",
    "and \n",
    "\n",
    "$$\n",
    "\\large\n",
    "\\Delta_{\\mathrm{w}} = \\sum{w} \\sum{wx^{2}} - \\left( \\sum{wx} \\right)^{2}.\n",
    "$$\n",
    "\n",
    "Let's consider another example below."
   ]
  },
  {
   "cell_type": "code",
   "execution_count": null,
   "id": "a4a6a807-969c-431d-94ce-a37bf6a3551c",
   "metadata": {},
   "outputs": [],
   "source": []
  },
  {
   "cell_type": "markdown",
   "id": "d3a5a3bd-bcc2-4c47-bfce-7a81f57c8993",
   "metadata": {},
   "source": [
    "### More information\n",
    "\n",
    "Additional introductory information about least-squares regressions can be found on the [Introduction to Quantitative Geology course page](https://introqg-site.readthedocs.io/en/latest/notebooks/L2/least-squares.html)."
   ]
  },
  {
   "cell_type": "markdown",
   "id": "715202a1-2103-4f6a-917e-c98af4baf102",
   "metadata": {},
   "source": [
    "## Linear correlation\n",
    "\n",
    "The linear correlation coefficient $r$ measures how well a given set of points fit to a line, with values ranging from 1 for a perfect positive correlation to -1 for a perfect negative correlation. For a given set of x and y points, $r$ can be calculated as follows:\n",
    "\n",
    "$$\n",
    "\\large\n",
    "r = \\frac{\\sum{\\left(x_{i} - \\bar{x} \\right)\\left(y_{i} - \\bar{y} \\right)}}{\\sqrt{\\sum{\\left(x_{i} - \\bar{x} \\right)^2} \\sum{\\left(y_{i} - \\bar{y} \\right)^2}}},\n",
    "$$\n",
    "\n",
    "where \\bar{x} and \\bar{y} are the means of the values on the x and y axes, respectively."
   ]
  },
  {
   "cell_type": "code",
   "execution_count": null,
   "id": "8e47bee8-1af9-4afb-bf19-d674d221055d",
   "metadata": {},
   "outputs": [],
   "source": []
  },
  {
   "cell_type": "markdown",
   "id": "f147b6b3-5fe7-4d90-910c-4336d063b6af",
   "metadata": {},
   "source": [
    "## Goodness-of-fit tests\n",
    "\n",
    "Goodness-of-fit tests provide a way to quantify how well predictions fit a given set of observations that have known uncertainties. One common measure is the *weighted sum of the squared errors*, also often refered to simply as chi squared:\n",
    "\n",
    "$$\n",
    "\\large\n",
    "\\chi^{2} = \\sum \\frac{(O_{i} - E_{i})^{2}}{\\sigma_{i}^{2}}\n",
    "$$\n",
    "\n",
    "where $O_{i}$ is the $i$th observed value, $E_{i}$ is the $i$th expected value, and $\\sigma_{i}$ is the $i$th standard deviation. For a given observation $i$, this equation will be less than 1 if the prediction falls within the uncertainties of the measurement or greater than 1 otherwise. This is fine, but it can then be confusing when the values are summed. Another option involves dividing by the number of values used in the calculation, as shown below.\n",
    "\n",
    "$$\n",
    "\\large\n",
    "\\chi^{2} = \\frac{1}{N} \\sum \\frac{(O_{i} - E_{i})^{2}}{\\sigma_{i}^{2}}\n",
    "$$\n",
    "\n",
    "where $N$ is the number of values in the summation. This results in a $\\chi^{2}$ value that should be less than 1 if the predictions are within the uncertainties *on average*, and greater than 1 otherwise."
   ]
  },
  {
   "cell_type": "markdown",
   "id": "2512d287-32ac-48fb-9740-0893d28e4a22",
   "metadata": {},
   "source": [
    "## Monte Carlo inversions\n",
    "\n",
    "### An example from thermal modelling\n",
    "\n",
    "Consider the 1D heat transfer equation for steady-state heat conduction with radiogenic heat production:\n",
    "\n",
    "$$\n",
    "\\begin{equation}\n",
    "  T(x) = \\frac{x T_{L}}{L} + \\frac{h_{\\mathrm{r}}^{2} H}{k} \\left( \\left( 1 - \\exp{(-x / h_{\\mathrm{r}})}\\right) - \\left( 1 - \\exp{(-L / h_{\\mathrm{r}})}\\right) \\frac{x}{L} \\right)\n",
    "\\end{equation}\n",
    "$$\n",
    "\n",
    "where $T$ is temperature (°C), $x$ is depth (m), $T_{L}$ is the temperature at the base of the model (°C), $L$ is the model thickness (m), $H$ is the radiogenic heat production at the surface in (W/m$^{3}$), $h_{\\mathrm{r}}$ is the depth at which the concentration of heat producing elements decreases by $1/e$ (m), and $k$ is the thermal conductivity in (W/m K).\n",
    "\n",
    "If we have a study region where we would like to apply this model and we know the surface heat flow is 60±5 W/m$^{2}$ and the crustal thickness is 35 km, then we could utilize a Monte Carlo inversion approach to \n",
    "\n",
    "| Parameter            | Minimum | Maximum |\n",
    "|:---------------------|:-------:|:-------:|\n",
    "| Basal temperature    | 500     | 750     |\n",
    "| Heat production      | 2.0     | 5.0     |\n",
    "| Characteristic depth | 10.0    | 35.0    |\n",
    "| Thermal conductivity | 2.0     | 3.0     |"
   ]
  },
  {
   "cell_type": "code",
   "execution_count": null,
   "id": "0814210a-cdd4-4f9a-aa3a-70918b7b3911",
   "metadata": {},
   "outputs": [],
   "source": [
    "import numpy as np\n",
    "import matplotlib.pyplot as plt\n",
    "\n",
    "# Define functions we need below"
   ]
  },
  {
   "cell_type": "code",
   "execution_count": null,
   "id": "89ceb133-8363-4fc1-a94f-1cda2b1c7780",
   "metadata": {},
   "outputs": [],
   "source": [
    "# Define model geometry\n",
    "L = 35000.0\n",
    "x = np.linspace(0.0, L, 101)\n",
    "\n",
    "# Configure Monte Carlo model below\n"
   ]
  },
  {
   "cell_type": "code",
   "execution_count": null,
   "id": "8eb5c9f2-3111-4873-94dd-4148d73f004e",
   "metadata": {},
   "outputs": [],
   "source": [
    "# Plot results here"
   ]
  }
 ],
 "metadata": {
  "kernelspec": {
   "display_name": "Python 3 (ipykernel)",
   "language": "python",
   "name": "python3"
  },
  "language_info": {
   "codemirror_mode": {
    "name": "ipython",
    "version": 3
   },
   "file_extension": ".py",
   "mimetype": "text/x-python",
   "name": "python",
   "nbconvert_exporter": "python",
   "pygments_lexer": "ipython3",
   "version": "3.8.10"
  }
 },
 "nbformat": 4,
 "nbformat_minor": 5
}
