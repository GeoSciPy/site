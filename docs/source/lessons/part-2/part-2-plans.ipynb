{
 "cells": [
  {
   "cell_type": "markdown",
   "id": "7fcf3066-f15d-4167-9479-bbdf6ea17048",
   "metadata": {},
   "source": [
    "# Part 2 plans\n",
    "\n",
    "This page is a list of topics we can consider discussing in part two of the course."
   ]
  },
  {
   "cell_type": "markdown",
   "id": "7e1c6073-e214-4813-a477-afe94741f12a",
   "metadata": {},
   "source": [
    "## Survey responses\n",
    "\n",
    "1. Data visualization\n",
    "2. Efficient programming\n",
    "3. Using classes/objects\n",
    "4. Statistics in Python\n",
    "5. Data processing\n",
    "6. Image processing\n",
    "7. Writing code\n",
    "8. Plotting different kinds of diagrams maybe even combine different diagrams in one diagram\n",
    "9. General statistic operations isotopic calculations with different data sheets and variables\n",
    "10. basic things\n",
    "11. understanding programming and basic applications in Geology-related projects\n",
    "12. Intuitive, sensitive, non-fiction cartography\n",
    "13. information that'll help me better my skills in programming\n",
    "14. Learning to program a map or an app that can be helpful for geological data\n",
    "15. Handling data with Python vs. traditional means (eg. Excel)\n",
    "16. Data visualisation in diagrams\n",
    "17. How to fit data into a diagram mined from a publication\n",
    "18. Ways to share our work and entrance into channels dedicated to Python relationship with geochemistry\n",
    "19. Use of Python and machine learning to clasify, correlate data\n",
    "20. Ideas on how we can stay \"Warm\" in Python programming throughout our PhD years\n",
    "21. Basic python\n",
    "22. The application of statistics using python\n",
    "23. Python for microscopists"
   ]
  },
  {
   "cell_type": "markdown",
   "id": "4f6f18b4-64bf-4556-b36d-5e127a1ed5f5",
   "metadata": {},
   "source": [
    "## Response themes\n",
    "\n",
    "### Python essentials\n",
    "\n",
    "- Writing code\n",
    "- Basic things\n",
    "- Understanding programming and basic applications in Geology-related projects\n",
    "- Information that'll help me better my skills in programming\n",
    "- Basic python\n",
    "\n",
    "### Data visualization\n",
    "\n",
    "- Data visualization\n",
    "- Plotting different kinds of diagrams maybe even combine different diagrams in one diagram\n",
    "- Intuitive, sensitive, non-fiction cartography (?)\n",
    "- Data visualisation in diagrams\n",
    "- How to fit data into a diagram mined from a publication (?)\n",
    "\n",
    "### Statistics\n",
    "\n",
    "- Statistics in Python\n",
    "- General statistic operations isotopic calculations with different data sheets and variables\n",
    "- The application of statistics using python\n",
    "\n",
    "### Using Python like a programmer\n",
    "\n",
    "- Efficient programming\n",
    "- Using classes/objects\n",
    "- Data processing\n",
    "- Handling data with Python vs. traditional means (eg. Excel)\n",
    "\n",
    "### Other: Machine learning/AI\n",
    "\n",
    "- Image processing (?)\n",
    "- Use of Python and machine learning to clasify, correlate data\n",
    "\n",
    "### Other: \n",
    "\n",
    "- Learning to program a map or an app that can be helpful for geological data\n",
    "- Ways to share our work and entrance into channels dedicated to Python relationship with geochemistry\n",
    "- Ideas on how we can stay \"Warm\" in Python programming throughout our PhD years\n",
    "- Python for microscopists"
   ]
  },
  {
   "cell_type": "markdown",
   "id": "616cd23b-0325-4b7e-90cc-e8a0e695d79d",
   "metadata": {},
   "source": [
    "## Suggested topics for part two\n",
    "\n",
    "### Data visualization\n",
    "\n",
    "- Making publication quality plots with Matplotlib\n",
    "- Making your plots accessible\n",
    "- Other suggestions?\n",
    "    \n",
    "### Basic geostatistics\n",
    "\n",
    "- Reading data from Excel files?\n",
    "- Other suggestions?\n",
    "    \n",
    "### Programming like a pro\n",
    "\n",
    "- Batch processing data files\n",
    "- Picking the \"right\" tools for the job\n",
    "- Common program elements/tasks/challenges\n",
    "    \n",
    "### Other ideas?\n",
    "\n",
    "- Data interpolation?\n",
    "- Linking models and data?"
   ]
  }
 ],
 "metadata": {
  "kernelspec": {
   "display_name": "Python 3 (ipykernel)",
   "language": "python",
   "name": "python3"
  },
  "language_info": {
   "codemirror_mode": {
    "name": "ipython",
    "version": 3
   },
   "file_extension": ".py",
   "mimetype": "text/x-python",
   "name": "python",
   "nbconvert_exporter": "python",
   "pygments_lexer": "ipython3",
   "version": "3.8.10"
  }
 },
 "nbformat": 4,
 "nbformat_minor": 5
}
