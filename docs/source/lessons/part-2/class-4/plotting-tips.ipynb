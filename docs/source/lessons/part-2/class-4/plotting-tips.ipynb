{
 "cells": [
  {
   "cell_type": "markdown",
   "id": "48060087-0e1f-44e3-8f81-cba6bb322d6d",
   "metadata": {},
   "source": [
    "# Creating publication-quality plots\n",
    "\n",
    "In this week's lesson we will discuss some general tips for creating high-quality plots using Matplotlib. The lesson is divided into two parts:\n",
    "\n",
    "1. Creating publication-quality plots using Matplotlib\n",
    "2. Considering accessibility in designing your plots\n",
    "\n",
    "As was the case in the past weeks, the lesson does not follow a strict plan, but the content will be adjusted according to the input of those in attendance in the online sesson."
   ]
  },
  {
   "cell_type": "markdown",
   "id": "d3dbb2d3-3931-45d4-a17d-e7fec67ad534",
   "metadata": {},
   "source": [
    "## Creating some fake data\n",
    "\n",
    "First, we need to create some fake data that we can use for plotting. Rather than loading a data file we'll just generate some random data to give an idea of how the plot formatting can be applied. In our case we'll create two pandas DataFrames:\n",
    "\n",
    "1. A set of x values and 4 sets of corresponding y values for plotting lines.\n",
    "2. Random 1000 x-y points that can be used for plotting colors on scatter plots."
   ]
  },
  {
   "cell_type": "code",
   "execution_count": null,
   "id": "cb561fef-4988-4523-b5bc-45743d46c9fc",
   "metadata": {},
   "outputs": [],
   "source": [
    "import matplotlib.pyplot as plt\n",
    "import numpy as np\n",
    "import pandas as pd"
   ]
  },
  {
   "cell_type": "code",
   "execution_count": null,
   "id": "d26823d0-69fc-40c5-8f98-dc1a360fab95",
   "metadata": {},
   "outputs": [],
   "source": [
    "# DataFrame of lines\n",
    "\n",
    "# Set number of points, x min and max, and offset between y-lines\n",
    "num_points = 21\n",
    "xmin = 0\n",
    "xmax = 20\n",
    "y_offset = 0.25\n",
    "\n",
    "# Create DataFrame\n",
    "lines_df = pd.DataFrame(columns=['x', 'y1', 'y2', 'y3', 'y4'])\n",
    "\n",
    "# Create numpy arrays for dataframe columns\n",
    "x = np.linspace(xmin, xmax, num_points)\n",
    "y1 = np.random.rand(num_points)\n",
    "y2 = np.random.rand(num_points) + y_offset\n",
    "y3 = np.random.rand(num_points) + 2 * y_offset\n",
    "y4 = np.random.rand(num_points) + 3 * y_offset\n",
    "\n",
    "# Fill DataFrame with numpy values\n",
    "lines_df['x'] = x\n",
    "lines_df['y1'] = y1\n",
    "lines_df['y2'] = y2\n",
    "lines_df['y3'] = y3\n",
    "lines_df['y4'] = y4"
   ]
  },
  {
   "cell_type": "code",
   "execution_count": null,
   "id": "9aa2c892-70fb-4397-9805-a79ec42def76",
   "metadata": {},
   "outputs": [],
   "source": [
    "# DataFrame of scatter points\n",
    "\n",
    "# Set number of points, x and y max\n",
    "num_points = 1000\n",
    "xmax = 20\n",
    "ymax = 20\n",
    "\n",
    "# Create DataFrame\n",
    "scatter_df = pd.DataFrame(columns=['x', 'y', 'color'])\n",
    "\n",
    "# Create numpy arrays for dataframe values\n",
    "x_pts = np.random.rand(num_points) * xmax\n",
    "y_pts = np.random.rand(num_points) * ymax\n",
    "color = np.random.rand(num_points)\n",
    "\n",
    "# Fill DataFrame values\n",
    "scatter_df['x'] = x_pts\n",
    "scatter_df['y'] = y_pts\n",
    "scatter_df['color'] = color"
   ]
  },
  {
   "cell_type": "markdown",
   "id": "a9a008ec-8593-4e66-bee7-1f876faa3a04",
   "metadata": {},
   "source": [
    "## Creating publication-quality plots using Matplotlib\n",
    "\n",
    "### Matplotlib style sheets\n",
    "\n",
    "Matplotlib has many different built-in styles that can be used for formatting the visual appearance of the plot. Many of these are nicer looking than the default plot settings. You can find information about the available plot styles in the [Matplotlib style sheets reference](https://matplotlib.org/stable/gallery/style_sheets/style_sheets_reference.html)."
   ]
  },
  {
   "cell_type": "code",
   "execution_count": null,
   "id": "a6d38147-3176-485c-9693-83a3073e1bb7",
   "metadata": {},
   "outputs": [],
   "source": [
    "# Plot data for two lines\n",
    "lines_df[['y1', 'y2']].plot()"
   ]
  },
  {
   "cell_type": "markdown",
   "id": "9411c3d5-24e6-471c-bd6a-a6ae73c45f6d",
   "metadata": {},
   "source": [
    "You can specify a plot style to use with the `plt.style.use()` function."
   ]
  },
  {
   "cell_type": "code",
   "execution_count": null,
   "id": "d425586a-888b-4165-8a8f-85c8f1cdcbe9",
   "metadata": {},
   "outputs": [],
   "source": [
    "# Define plot style\n",
    "plot_style = \"seaborn\"\n",
    "plt.style.use(plot_style)\n",
    "\n",
    "# Plot data for two lines\n",
    "lines_df[['y1', 'y2']].plot()"
   ]
  },
  {
   "cell_type": "markdown",
   "id": "1377e75b-85c5-417f-85f0-b3700fde068a",
   "metadata": {},
   "source": [
    "### Using colormaps for line colors\n",
    "\n",
    "Matplotlib also has a large number of [built-in colormaps](https://matplotlib.org/stable/tutorials/colors/colormaps.html) that can be used to define colors of plot objects, often for things like filled contour plots. If you would like to have such colormaps be used for plotting lines on a plot, which you might like to do if you have a series of plot lines for different time periods, for example, you can do this using the `plt.cm.colormap()` function, where the word `colormap` in the function would be replaced by a matplotlib colormap. Let's see an example."
   ]
  },
  {
   "cell_type": "code",
   "execution_count": null,
   "id": "e68a65b5-c968-4dce-b53c-fa096fae7de2",
   "metadata": {},
   "outputs": [],
   "source": [
    "# Original plot, now for four lines\n",
    "lines_df[['y1', 'y2', 'y3', 'y4']].plot()"
   ]
  },
  {
   "cell_type": "code",
   "execution_count": null,
   "id": "b42feded-1645-4f62-822f-06fc8e81b5a6",
   "metadata": {},
   "outputs": [],
   "source": [
    "# Define colors to use from inferno colormap\n",
    "colors = plt.cm.inferno(np.linspace(0, 1, 4))\n",
    "\n",
    "# Modified plot with colormap colors for four lines\n",
    "lines_df[['y1', 'y2', 'y3', 'y4']].plot(color=colors)"
   ]
  },
  {
   "cell_type": "markdown",
   "id": "f630f37a-2e20-4330-a1ef-1c15fc6fbf35",
   "metadata": {},
   "source": [
    "### More advanced subplot layouts\n",
    "\n"
   ]
  },
  {
   "cell_type": "code",
   "execution_count": null,
   "id": "68da800c-4695-4c72-b229-755268db562a",
   "metadata": {},
   "outputs": [],
   "source": []
  },
  {
   "cell_type": "markdown",
   "id": "cd736b72-aa21-4e88-9af5-b70d94d07c15",
   "metadata": {},
   "source": [
    "### Formatting plot ticks\n",
    "\n"
   ]
  },
  {
   "cell_type": "code",
   "execution_count": null,
   "id": "cb2d3cfb-38f1-4e6c-be6a-506f7f75e239",
   "metadata": {},
   "outputs": [],
   "source": []
  },
  {
   "cell_type": "markdown",
   "id": "c13191b2-7efc-4b5f-9eb5-31170a11f86b",
   "metadata": {},
   "source": [
    "### Other handy tips\n",
    "\n",
    "#### Reversing plot axes"
   ]
  },
  {
   "cell_type": "code",
   "execution_count": null,
   "id": "526ac7e1-c5d1-4b85-a3b1-735ddf6aeb4f",
   "metadata": {},
   "outputs": [],
   "source": []
  },
  {
   "cell_type": "markdown",
   "id": "52f7f450-3262-4832-98f0-cf166a28536c",
   "metadata": {},
   "source": [
    "#### Filling between lines\n",
    "\n"
   ]
  },
  {
   "cell_type": "code",
   "execution_count": null,
   "id": "9965a515-3613-4ed5-b284-65caa8aaa0d0",
   "metadata": {},
   "outputs": [],
   "source": []
  },
  {
   "cell_type": "markdown",
   "id": "7bf22da4-e3e2-4060-bdc6-3190a50bb797",
   "metadata": {},
   "source": [
    "#### Using f-strings for plot labels and titles"
   ]
  },
  {
   "cell_type": "code",
   "execution_count": null,
   "id": "edf39c98-d357-42ee-a690-77c4e1f5b70a",
   "metadata": {},
   "outputs": [],
   "source": []
  },
  {
   "cell_type": "markdown",
   "id": "f605db6b-a791-4d3d-b792-514253482b93",
   "metadata": {},
   "source": [
    "### Sometimes manual editing is still required (or faster)\n",
    "\n",
    "Practically speaking, I do most of the plot formatting in Python, but often clean things up in another program such as Adobe Illustrator, Inkscape, CorelDRAW, or Affinity Designer. Certain formatting processes are simply easier to customize by hand. (Geochron paper example)"
   ]
  },
  {
   "cell_type": "markdown",
   "id": "1c3e84a1-d929-4315-bcf2-e14edd96c90e",
   "metadata": {},
   "source": [
    "## Considering accessibility in plot design\n",
    "\n",
    "### Tips for creating line plots\n",
    "\n",
    "### Choosing colormaps\n",
    "\n",
    "- sequential: Lightness increases monotonically in the colors\n",
    "- diverging: Color diverges on either side of a neutral value in the middle of the color range\n",
    "- cyclic: Colors at either end of the colormap are equal\n",
    "- qualitative: Often used to classify data values that are discrete\n",
    "\n",
    "#### Supporting colorblind viewers\n",
    "\n",
    "Matplotlib's has several perceptually uniform colormaps that are available:\n",
    "\n",
    "- viridis\n",
    "- plasma\n",
    "- inferno\n",
    "- magma\n",
    "- cividis\n",
    "\n",
    "#### Avoiding data distortion\n",
    "\n"
   ]
  },
  {
   "cell_type": "markdown",
   "id": "42fd36e1-dcf3-4781-853c-1504ce51ee13",
   "metadata": {},
   "source": [
    "## Resources\n",
    "\n",
    "- [s-ink science graphics collection](https://s-ink.org/)\n",
    "- [Scientific color maps](https://www.fabiocrameri.ch/colourmaps/)\n",
    "- [Matplotlib plot gallery](https://matplotlib.org/stable/gallery/index.html)\n",
    "- [Coblis colorblindess simulator](https://www.color-blindness.com/coblis-color-blindness-simulator/)\n",
    "- [SciPy 2015 conference presentation on perceptually uniform colormaps](https://youtu.be/xAoljeRJ3lU)\n"
   ]
  }
 ],
 "metadata": {
  "kernelspec": {
   "display_name": "Python 3 (ipykernel)",
   "language": "python",
   "name": "python3"
  },
  "language_info": {
   "codemirror_mode": {
    "name": "ipython",
    "version": 3
   },
   "file_extension": ".py",
   "mimetype": "text/x-python",
   "name": "python",
   "nbconvert_exporter": "python",
   "pygments_lexer": "ipython3",
   "version": "3.8.10"
  }
 },
 "nbformat": 4,
 "nbformat_minor": 5
}
